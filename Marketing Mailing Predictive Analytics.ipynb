{
 "cells": [
  {
   "cell_type": "markdown",
   "metadata": {},
   "source": [
    "# Marketing Mailing Predictive Analytics\n",
    "\n",
    "This project aims to build a model to predict which customers would respond to the marketing mailing. \n",
    "\n",
    "The company's goal is to get 1.5 million revenue increase by sending out marketing mailings to target customers with the lowest cost. After simple calculation, our final goal is to identify 1,667 positive-reponse customers by building a classification model.\n",
    "\n",
    "- Firstly we pre-processed the training dataset to build the model. We did EDA to support variable selection, and combined all the independent variables into a column called \"features\" for further model building usage. Similarly, we prepared the dataset we want to predict -- future dataset. \n",
    "\n",
    "- Then we selected the best threshold according to the true positives we want to get.\n",
    "\n",
    "- Finally we utilized the final model with the best threshold to classify the future dataset. The model flagged 5,022 customers, which potentially leads to 1,667 true reponses and 1.5 million revenue increase."
   ]
  },
  {
   "cell_type": "markdown",
   "metadata": {},
   "source": [
    "## Reading Data"
   ]
  },
  {
   "cell_type": "code",
   "execution_count": 86,
   "metadata": {},
   "outputs": [],
   "source": [
    "import findspark\n",
    "import pyspark\n",
    "from pyspark.sql import SparkSession\n",
    "from pyspark.sql.types import *\n",
    "from pyspark.sql.functions import *\n",
    "from pyspark.sql import DataFrame\n",
    "from pyspark.sql import functions as F\n",
    "from pyspark.sql.types import DoubleType\n",
    "import matplotlib.pyplot as plt\n",
    "from pyspark.ml.feature import OneHotEncoderEstimator, StringIndexer, VectorAssembler\n",
    "from pyspark.ml import Pipeline\n",
    "from pyspark.ml.classification import LogisticRegression\n",
    "import numpy as np\n",
    "\n",
    "findspark.init('/usr/local/Cellar/apache-spark/2.4.5/libexec')\n",
    "spark = SparkSession.builder.appName('final').getOrCreate()"
   ]
  },
  {
   "cell_type": "code",
   "execution_count": 87,
   "metadata": {},
   "outputs": [],
   "source": [
    "# Read data\n",
    "customers = spark.read.csv(\"Customers.csv\", inferSchema=True, header=True) \n",
    "demog = spark.read.csv(\"Demog.csv\", inferSchema=True, header=True)\n",
    "mailings_1_2 = spark.read.csv(\"Mailings1_2.csv\", inferSchema=True, header=True) \n",
    "mailings_3 = spark.read.csv(\"mailings3.csv\", inferSchema=True, header=True)\n",
    "sales = spark.read.csv(\"Sales.csv\", inferSchema=True, header=True)\n",
    "\n",
    "# Create tempview for each dataset\n",
    "customers.createOrReplaceTempView(\"customers\")\n",
    "demog.createOrReplaceTempView(\"demog\")\n",
    "mailings_1_2.createOrReplaceTempView(\"mailings_1_2\")\n",
    "mailings_3.createOrReplaceTempView(\"mailings_3\")\n",
    "sales.createOrReplaceTempView(\"sales\")"
   ]
  },
  {
   "cell_type": "markdown",
   "metadata": {},
   "source": [
    "## Data Preparation"
   ]
  },
  {
   "cell_type": "code",
   "execution_count": 153,
   "metadata": {
    "scrolled": true
   },
   "outputs": [
    {
     "name": "stdout",
     "output_type": "stream",
     "text": [
      "+------+--------------+------------+-----------------+-----+-----+-----+----+----+----+---+-------------+--------+------+------+------+------+------+------+------+------+------+-------+-------+-------+-------+-------+-------+-------+-------+-------+------------------+----------+-----+\n",
      "|   SEX|MARITAL_STATUS|EDUCATIONNUM|       OCCUPATION|DATA1|DATA2|DATA3|NOM1|NOM2|NOM3|age|INHABITANTS_K|INCOME_K|A_VAR1|A_VAR2|A_VAR3|A_VAR4|A_VAR5|A_VAR6|A_VAR7|A_VAR8|A_VAR9|A_VAR10|A_VAR11|A_VAR12|A_VAR13|A_VAR14|A_VAR15|A_VAR16|A_VAR17|A_VAR18|        sum_amount|cnt_amount|label|\n",
      "+------+--------------+------------+-----------------+-----+-----+-----+----+----+----+---+-------------+--------+------+------+------+------+------+------+------+------+------+-------+-------+-------+-------+-------+-------+-------+-------+-------+------------------+----------+-----+\n",
      "|  Male|      Divorced|           6|Machine-op-inspct|9.113| 3.77|7.521|   m|   q|   o| 27|       44.525| 2354.73| 7.913|  8.53| 9.821| 4.522| 4.252| 8.277|  4.38| 7.002| 6.944|  5.613|  7.522|  5.559|   5.55|  6.299|  5.222|  5.901|  2.723|  5.308|158.06600000000003|        10|  1.0|\n",
      "|  Male| Never-married|           5|Handlers-cleaners|5.759|7.655|5.942|   u|   o|   l| 46|       49.543| 2022.34| 5.767| 8.046| 5.945| 6.036| 4.285| 6.364| 5.342| 7.619| 4.639|  8.762|  8.043|  8.812|  6.365|   3.97|  4.864|  5.163|  3.806|  5.735|            112.09|         8|  0.0|\n",
      "|  Male| Never-married|           6|  Farming-fishing|4.756|7.398|6.092|   u|   n|   j| 67|       14.938| 2870.28| 6.216| 5.527| 8.378| 8.637| 4.219| 8.176| 8.014| 3.389|   3.9|   6.57|  8.087|  7.169|  3.907|  3.614|  5.943|  6.617|  4.771|  8.641|172.26600000000002|        11|  0.0|\n",
      "|  Male| Never-married|           4|  Farming-fishing|4.733|7.643| 6.11|   u|   o|   j| 47|       25.199|  2852.0| 4.647| 8.442| 6.338|  6.69| 8.343| 3.281| 6.771| 4.272|  8.05|    7.3|  7.383|  3.331|  6.377|  6.565|  4.535|  8.062|   8.08|  5.499|           136.961|         9|  0.0|\n",
      "|Female|      Divorced|           8|Machine-op-inspct|8.634| 3.59|7.643|   n|   p|   p| 44|       25.746| 2690.55| 6.212| 5.558| 8.375| 8.611| 4.198| 8.167| 8.016| 3.429| 3.873|  6.635|  8.119|  7.213|  3.883|  3.578|  5.972|  6.626|  4.773|  8.628|            76.075|         5|  0.0|\n",
      "+------+--------------+------------+-----------------+-----+-----+-----+----+----+----+---+-------------+--------+------+------+------+------+------+------+------+------+------+-------+-------+-------+-------+-------+-------+-------+-------+-------+------------------+----------+-----+\n",
      "only showing top 5 rows\n",
      "\n"
     ]
    }
   ],
   "source": [
    "# Join the tables\n",
    "customers_sales_aggregate = spark.sql(\n",
    "\"\"\"\n",
    "SELECT\n",
    "c.ID,\n",
    "SUM(AMOUNT) sum_amount,\n",
    "COUNT(AMOUNT) cnt_amount\n",
    "FROM customers c\n",
    "LEFT JOIN sales s ON c.ID = s.REFID\n",
    "where (date(EVENT_DATE) < \"2007-03-01\" and s.REFID >= 30000) or date(EVENT_DATE) < \"2007-02-01\"\n",
    "GROUP BY c.ID\n",
    "\"\"\")\n",
    "customers_sales_aggregate.createOrReplaceTempView(\"customers_sales_aggregate\")\n",
    "\n",
    "customers_info_all = spark.sql(\n",
    "\"\"\"\n",
    "SELECT\n",
    "*\n",
    "FROM customers c\n",
    "INNER JOIN mailings_1_2 m_1 on c.ID = m_1.REFID\n",
    "LEFT JOIN demog d ON c.GEOID = d.GEOID\n",
    "LEFT JOIN customers_sales_aggregate csa ON c.ID = csa.ID\n",
    "\"\"\")\n",
    "customers_info_all.createOrReplaceTempView(\"customers_info_all\")\n",
    "\n",
    "customers_info_all_drop = customers_info_all.drop(\"ID\",\"REFID\",\"KxIndex\",\"GEOID\",\"REF_DATE\")\n",
    "customers_info_all_drop.createOrReplaceTempView(\"customers_info_all_drop\")\n",
    "# Change response to label(int)\n",
    "response_transfer = spark.sql(\"\"\"\n",
    "select *,\n",
    "case when RESPONSE = TRUE then 1   \n",
    "     else 0 end as label\n",
    "from customers_info_all_drop                        \n",
    "\"\"\").drop(\"RESPONSE\")\n",
    "\n",
    "# Change label(int) to label(double)\n",
    "response_transfer = response_transfer.withColumn(\"label\", response_transfer[\"label\"].cast(DoubleType()) )\n",
    "response_transfer.createOrReplaceTempView(\"response_transfer\")\n",
    "response_transfer.show(5)"
   ]
  },
  {
   "cell_type": "markdown",
   "metadata": {},
   "source": [
    "## EDA for Categorical Variables"
   ]
  },
  {
   "cell_type": "code",
   "execution_count": 155,
   "metadata": {},
   "outputs": [
    {
     "data": {
      "text/plain": [
       "Text(0.5, 1.0, 'Count of each categories for Sex')"
      ]
     },
     "execution_count": 155,
     "metadata": {},
     "output_type": "execute_result"
    },
    {
     "data": {
      "image/png": "[encoded data removed]",
      "text/plain": [
       "<Figure size 1152x576 with 1 Axes>"
      ]
     },
     "metadata": {
      "needs_background": "light"
     },
     "output_type": "display_data"
    }
   ],
   "source": [
    "# bar chart for Sex\n",
    "sex_desc = spark.sql(   \n",
    "\"\"\"\n",
    "select\n",
    "sex,\n",
    "COUNT(*) as num\n",
    "from response_transfer\n",
    "GROUP BY sex\n",
    "\"\"\")\n",
    "sex_desc_df = sex_desc.toPandas()\n",
    "sex_list = list(sex_desc_df['sex'])\n",
    "sex_num_list = list(sex_desc_df['num'])\n",
    "\n",
    "plt.figure(figsize=(16,8))\n",
    "plt.barh(sex_list,sex_num_list)\n",
    "plt.title(\"Count of each categories for Sex\")"
   ]
  },
  {
   "cell_type": "code",
   "execution_count": 156,
   "metadata": {},
   "outputs": [
    {
     "data": {
      "text/plain": [
       "Text(0.5, 1.0, 'Count of each categories for Marital Status')"
      ]
     },
     "execution_count": 156,
     "metadata": {},
     "output_type": "execute_result"
    },
    {
     "data": {
      "image/png": "[encoded data removed]",
      "text/plain": [
       "<Figure size 1152x576 with 1 Axes>"
      ]
     },
     "metadata": {
      "needs_background": "light"
     },
     "output_type": "display_data"
    }
   ],
   "source": [
    "# bar chart for Marital Status\n",
    "marital_desc = spark.sql(   \n",
    "\"\"\"\n",
    "select\n",
    "marital_status,\n",
    "COUNT(*) as num\n",
    "from response_transfer\n",
    "GROUP BY marital_status\n",
    "\"\"\")\n",
    "marital_desc_df = marital_desc.toPandas()\n",
    "marital_list = list(marital_desc_df['marital_status'])\n",
    "marital_num_list = list(marital_desc_df['num'])\n",
    "\n",
    "plt.figure(figsize=(16,8))\n",
    "plt.barh(marital_list,marital_num_list)\n",
    "plt.title(\"Count of each categories for Marital Status\")"
   ]
  },
  {
   "cell_type": "code",
   "execution_count": 157,
   "metadata": {},
   "outputs": [
    {
     "data": {
      "text/plain": [
       "Text(0.5, 1.0, 'Count of each categories for Occupation')"
      ]
     },
     "execution_count": 157,
     "metadata": {},
     "output_type": "execute_result"
    },
    {
     "data": {
      "image/png": "[encoded data removed]",
      "text/plain": [
       "<Figure size 1152x576 with 1 Axes>"
      ]
     },
     "metadata": {
      "needs_background": "light"
     },
     "output_type": "display_data"
    }
   ],
   "source": [
    "# bar chart for Occupation\n",
    "occupation_desc = spark.sql(   \n",
    "\"\"\"\n",
    "select\n",
    "OCCUPATION,\n",
    "COUNT(*) as num\n",
    "from response_transfer\n",
    "GROUP BY OCCUPATION\n",
    "\"\"\")\n",
    "occupation_desc_df = occupation_desc.toPandas()\n",
    "occupation_list = list(occupation_desc_df['OCCUPATION'])\n",
    "occupation_num_list = list(occupation_desc_df['num'])\n",
    "\n",
    "plt.figure(figsize=(16,8))\n",
    "plt.barh(occupation_list,occupation_num_list)\n",
    "plt.title(\"Count of each categories for Occupation\")"
   ]
  },
  {
   "cell_type": "code",
   "execution_count": 158,
   "metadata": {},
   "outputs": [
    {
     "data": {
      "text/plain": [
       "Text(0.5, 1.0, 'Count of each categories for Nom 1')"
      ]
     },
     "execution_count": 158,
     "metadata": {},
     "output_type": "execute_result"
    },
    {
     "data": {
      "image/png": "[encoded data removed]",
      "text/plain": [
       "<Figure size 1152x576 with 1 Axes>"
      ]
     },
     "metadata": {
      "needs_background": "light"
     },
     "output_type": "display_data"
    }
   ],
   "source": [
    "# bar chart for Nom 1\n",
    "nom_1_desc = spark.sql(\n",
    "\"\"\"\n",
    "select\n",
    "NOM1,\n",
    "COUNT(*) as num\n",
    "from response_transfer\n",
    "GROUP BY NOM1\n",
    "\"\"\")\n",
    "nom_1_desc_df = nom_1_desc.toPandas()\n",
    "nom_1_list = list(nom_1_desc_df['NOM1'])\n",
    "nom_1_num_list = list(nom_1_desc_df['num'])\n",
    "\n",
    "plt.figure(figsize=(16,8))\n",
    "plt.barh(nom_1_list,nom_1_num_list)\n",
    "plt.title(\"Count of each categories for Nom 1\", fontsize =14)"
   ]
  },
  {
   "cell_type": "code",
   "execution_count": 159,
   "metadata": {},
   "outputs": [
    {
     "data": {
      "text/plain": [
       "Text(0.5, 1.0, 'Count of each categories for Nom 2')"
      ]
     },
     "execution_count": 159,
     "metadata": {},
     "output_type": "execute_result"
    },
    {
     "data": {
      "image/png": "[encoded data removed]",
      "text/plain": [
       "<Figure size 1152x576 with 1 Axes>"
      ]
     },
     "metadata": {
      "needs_background": "light"
     },
     "output_type": "display_data"
    }
   ],
   "source": [
    "# bar chart for Nom 2\n",
    "nom_2_desc = spark.sql(\n",
    "\"\"\"\n",
    "select\n",
    "NOM2,\n",
    "COUNT(*) as num\n",
    "from response_transfer\n",
    "GROUP BY NOM2\n",
    "\"\"\")\n",
    "nom_2_desc_df = nom_2_desc.toPandas()\n",
    "nom_2_list = list(nom_2_desc_df['NOM2'])\n",
    "nom_2_num_list = list(nom_2_desc_df['num'])\n",
    "\n",
    "plt.figure(figsize=(16,8))\n",
    "plt.barh(nom_2_list,nom_2_num_list)\n",
    "plt.title(\"Count of each categories for Nom 2\", fontsize =14)"
   ]
  },
  {
   "cell_type": "code",
   "execution_count": 160,
   "metadata": {},
   "outputs": [
    {
     "data": {
      "text/plain": [
       "Text(0.5, 1.0, 'Count of each categories for Nom 3')"
      ]
     },
     "execution_count": 160,
     "metadata": {},
     "output_type": "execute_result"
    },
    {
     "data": {
      "image/png": "[encoded data removed]",
      "text/plain": [
       "<Figure size 1152x576 with 1 Axes>"
      ]
     },
     "metadata": {
      "needs_background": "light"
     },
     "output_type": "display_data"
    }
   ],
   "source": [
    "# bar chart for Nom 3\n",
    "nom_3_desc = spark.sql(\n",
    "\"\"\"\n",
    "select\n",
    "NOM3,\n",
    "COUNT(*) as num\n",
    "from response_transfer\n",
    "GROUP BY NOM3\n",
    "\"\"\")\n",
    "nom_3_desc_df = nom_3_desc.toPandas()\n",
    "nom_3_list = list(nom_3_desc_df['NOM3'])\n",
    "nom_3_num_list = list(nom_3_desc_df['num'])\n",
    "\n",
    "plt.figure(figsize=(16,8))\n",
    "plt.barh(nom_3_list,nom_3_num_list)\n",
    "plt.title(\"Count of each categories for Nom 3\", fontsize =14)"
   ]
  },
  {
   "cell_type": "markdown",
   "metadata": {},
   "source": [
    "## Training Data Preparation"
   ]
  },
  {
   "cell_type": "code",
   "execution_count": 161,
   "metadata": {},
   "outputs": [
    {
     "name": "stdout",
     "output_type": "stream",
     "text": [
      "+------+--------------+------------+-----------------+-----+-----+-----+----+----+----+---+-------------+--------+------+------+------+------+------+------+------+------+------+-------+-------+-------+-------+-------+-------+-------+-------+-------+------------------+----------+-----+------+\n",
      "|   SEX|MARITAL_STATUS|EDUCATIONNUM|       OCCUPATION|DATA1|DATA2|DATA3|NOM1|NOM2|NOM3|age|INHABITANTS_K|INCOME_K|A_VAR1|A_VAR2|A_VAR3|A_VAR4|A_VAR5|A_VAR6|A_VAR7|A_VAR8|A_VAR9|A_VAR10|A_VAR11|A_VAR12|A_VAR13|A_VAR14|A_VAR15|A_VAR16|A_VAR17|A_VAR18|        sum_amount|cnt_amount|label|weight|\n",
      "+------+--------------+------------+-----------------+-----+-----+-----+----+----+----+---+-------------+--------+------+------+------+------+------+------+------+------+------+-------+-------+-------+-------+-------+-------+-------+-------+-------+------------------+----------+-----+------+\n",
      "|  Male|      Divorced|           6|Machine-op-inspct|9.113| 3.77|7.521|   m|   q|   o| 27|       44.525| 2354.73| 7.913|  8.53| 9.821| 4.522| 4.252| 8.277|  4.38| 7.002| 6.944|  5.613|  7.522|  5.559|   5.55|  6.299|  5.222|  5.901|  2.723|  5.308|158.06600000000003|        10|  1.0|0.9501|\n",
      "|  Male| Never-married|           5|Handlers-cleaners|5.759|7.655|5.942|   u|   o|   l| 46|       49.543| 2022.34| 5.767| 8.046| 5.945| 6.036| 4.285| 6.364| 5.342| 7.619| 4.639|  8.762|  8.043|  8.812|  6.365|   3.97|  4.864|  5.163|  3.806|  5.735|            112.09|         8|  0.0|0.0499|\n",
      "|  Male| Never-married|           6|  Farming-fishing|4.756|7.398|6.092|   u|   n|   j| 67|       14.938| 2870.28| 6.216| 5.527| 8.378| 8.637| 4.219| 8.176| 8.014| 3.389|   3.9|   6.57|  8.087|  7.169|  3.907|  3.614|  5.943|  6.617|  4.771|  8.641|172.26600000000002|        11|  0.0|0.0499|\n",
      "|  Male| Never-married|           4|  Farming-fishing|4.733|7.643| 6.11|   u|   o|   j| 47|       25.199|  2852.0| 4.647| 8.442| 6.338|  6.69| 8.343| 3.281| 6.771| 4.272|  8.05|    7.3|  7.383|  3.331|  6.377|  6.565|  4.535|  8.062|   8.08|  5.499|           136.961|         9|  0.0|0.0499|\n",
      "|Female|      Divorced|           8|Machine-op-inspct|8.634| 3.59|7.643|   n|   p|   p| 44|       25.746| 2690.55| 6.212| 5.558| 8.375| 8.611| 4.198| 8.167| 8.016| 3.429| 3.873|  6.635|  8.119|  7.213|  3.883|  3.578|  5.972|  6.626|  4.773|  8.628|            76.075|         5|  0.0|0.0499|\n",
      "+------+--------------+------------+-----------------+-----+-----+-----+----+----+----+---+-------------+--------+------+------+------+------+------+------+------+------+------+-------+-------+-------+-------+-------+-------+-------+-------+-------+------------------+----------+-----+------+\n",
      "only showing top 5 rows\n",
      "\n"
     ]
    }
   ],
   "source": [
    "# Balance the data because there are too few positive responses\n",
    "balancingRatio = response_transfer.where(\"label=1\").count() / response_transfer.count()\n",
    "\n",
    "def calculateWeights(d):\n",
    "      if d == 0.0:\n",
    "        return 1 * balancingRatio\n",
    "      else:\n",
    "        return 1 * (1.0 - balancingRatio)\n",
    "calculateWeights_udf = udf(calculateWeights)   \n",
    "\n",
    "df_weight = response_transfer.withColumn(\"weight\", calculateWeights_udf(\"label\").cast(DoubleType()))\n",
    "cols = df_weight.columns\n",
    "df_weight.show(5)"
   ]
  },
  {
   "cell_type": "code",
   "execution_count": 162,
   "metadata": {},
   "outputs": [],
   "source": [
    "# Put all the independent variables into a column called \"features\"\n",
    "categoricalColumns = ['SEX', 'MARITAL_STATUS']\n",
    "stages = []\n",
    "for categoricalCol in categoricalColumns:\n",
    "    stringIndexer = StringIndexer(inputCol=categoricalCol, outputCol=categoricalCol+'Index')\n",
    "    encoder = OneHotEncoderEstimator(inputCols=[stringIndexer.getOutputCol()], outputCols=[categoricalCol+\"classVec\"])\n",
    "    stages += [stringIndexer, encoder]\n",
    "\n",
    "numericCols = ['EDUCATIONNUM','DATA1','DATA2','DATA3','age','INHABITANTS_K','INCOME_K','A_VAR1','A_VAR2','A_VAR3','A_VAR4',\\\n",
    "               'A_VAR5','A_VAR6','A_VAR7','A_VAR8','A_VAR9','A_VAR10','A_VAR11','A_VAR12','A_VAR13',\\\n",
    "               'A_VAR14','A_VAR15','A_VAR16','A_VAR17','A_VAR18','sum_amount','cnt_amount']\n",
    "\n",
    "# assemblerInputs = numericCols\n",
    "assemblerInputs = [c + \"classVec\" for c in categoricalColumns] + numericCols\n",
    "assembler = VectorAssembler(inputCols=assemblerInputs, outputCol=\"features\")\n",
    "stages += [assembler]"
   ]
  },
  {
   "cell_type": "code",
   "execution_count": 163,
   "metadata": {
    "scrolled": false
   },
   "outputs": [
    {
     "name": "stdout",
     "output_type": "stream",
     "text": [
      "+--------------------+------+--------------+------------+-----------------+-----+-----+-----+----+----+----+---+-------------+--------+------+------+------+------+------+------+------+------+------+-------+-------+-------+-------+-------+-------+-------+-------+-------+------------------+----------+-----+------+\n",
      "|            features|   SEX|MARITAL_STATUS|EDUCATIONNUM|       OCCUPATION|DATA1|DATA2|DATA3|NOM1|NOM2|NOM3|age|INHABITANTS_K|INCOME_K|A_VAR1|A_VAR2|A_VAR3|A_VAR4|A_VAR5|A_VAR6|A_VAR7|A_VAR8|A_VAR9|A_VAR10|A_VAR11|A_VAR12|A_VAR13|A_VAR14|A_VAR15|A_VAR16|A_VAR17|A_VAR18|        sum_amount|cnt_amount|label|weight|\n",
      "+--------------------+------+--------------+------------+-----------------+-----+-----+-----+----+----+----+---+-------------+--------+------+------+------+------+------+------+------+------+------+-------+-------+-------+-------+-------+-------+-------+-------+-------+------------------+----------+-----+------+\n",
      "|[1.0,0.0,0.0,1.0,...|  Male|      Divorced|           6|Machine-op-inspct|9.113| 3.77|7.521|   m|   q|   o| 27|       44.525| 2354.73| 7.913|  8.53| 9.821| 4.522| 4.252| 8.277|  4.38| 7.002| 6.944|  5.613|  7.522|  5.559|   5.55|  6.299|  5.222|  5.901|  2.723|  5.308|158.06600000000003|        10|  1.0|0.9501|\n",
      "|[1.0,0.0,1.0,0.0,...|  Male| Never-married|           5|Handlers-cleaners|5.759|7.655|5.942|   u|   o|   l| 46|       49.543| 2022.34| 5.767| 8.046| 5.945| 6.036| 4.285| 6.364| 5.342| 7.619| 4.639|  8.762|  8.043|  8.812|  6.365|   3.97|  4.864|  5.163|  3.806|  5.735|            112.09|         8|  0.0|0.0499|\n",
      "|[1.0,0.0,1.0,0.0,...|  Male| Never-married|           6|  Farming-fishing|4.756|7.398|6.092|   u|   n|   j| 67|       14.938| 2870.28| 6.216| 5.527| 8.378| 8.637| 4.219| 8.176| 8.014| 3.389|   3.9|   6.57|  8.087|  7.169|  3.907|  3.614|  5.943|  6.617|  4.771|  8.641|172.26600000000002|        11|  0.0|0.0499|\n",
      "|[1.0,0.0,1.0,0.0,...|  Male| Never-married|           4|  Farming-fishing|4.733|7.643| 6.11|   u|   o|   j| 47|       25.199|  2852.0| 4.647| 8.442| 6.338|  6.69| 8.343| 3.281| 6.771| 4.272|  8.05|    7.3|  7.383|  3.331|  6.377|  6.565|  4.535|  8.062|   8.08|  5.499|           136.961|         9|  0.0|0.0499|\n",
      "|[0.0,0.0,0.0,1.0,...|Female|      Divorced|           8|Machine-op-inspct|8.634| 3.59|7.643|   n|   p|   p| 44|       25.746| 2690.55| 6.212| 5.558| 8.375| 8.611| 4.198| 8.167| 8.016| 3.429| 3.873|  6.635|  8.119|  7.213|  3.883|  3.578|  5.972|  6.626|  4.773|  8.628|            76.075|         5|  0.0|0.0499|\n",
      "+--------------------+------+--------------+------------+-----------------+-----+-----+-----+----+----+----+---+-------------+--------+------+------+------+------+------+------+------+------+------+-------+-------+-------+-------+-------+-------+-------+-------+-------+------------------+----------+-----+------+\n",
      "only showing top 5 rows\n",
      "\n"
     ]
    }
   ],
   "source": [
    "# Use pipeline to combine variables\n",
    "pipeline = Pipeline(stages = stages)\n",
    "pipelineModel = pipeline.fit(df_weight)\n",
    "df = pipelineModel.transform(df_weight)\n",
    "selectedCols = ['features'] + cols\n",
    "df = df.select(selectedCols)\n",
    "df.show(5)"
   ]
  },
  {
   "cell_type": "markdown",
   "metadata": {},
   "source": [
    "## Future Dataset Preparation"
   ]
  },
  {
   "cell_type": "code",
   "execution_count": 164,
   "metadata": {},
   "outputs": [
    {
     "name": "stdout",
     "output_type": "stream",
     "text": [
      "+----+------------------+------------+-----------------+-----+-----+-----+----+----+----+---+-------------+--------+------+------+------+------+------+------+------+------+------+-------+-------+-------+-------+-------+-------+-------+-------+-------+-----------------+----------+-----+\n",
      "| SEX|    MARITAL_STATUS|EDUCATIONNUM|       OCCUPATION|DATA1|DATA2|DATA3|NOM1|NOM2|NOM3|age|INHABITANTS_K|INCOME_K|A_VAR1|A_VAR2|A_VAR3|A_VAR4|A_VAR5|A_VAR6|A_VAR7|A_VAR8|A_VAR9|A_VAR10|A_VAR11|A_VAR12|A_VAR13|A_VAR14|A_VAR15|A_VAR16|A_VAR17|A_VAR18|       sum_amount|cnt_amount|label|\n",
      "+----+------------------+------------+-----------------+-----+-----+-----+----+----+----+---+-------------+--------+------+------+------+------+------+------+------+------+------+-------+-------+-------+-------+-------+-------+-------+-------+-------+-----------------+----------+-----+\n",
      "|Male|     Never-married|           4|Machine-op-inspct|4.986|5.164|5.743|   z|   q|   z| 22|       49.216| 2606.09| 6.242| 5.586| 8.828| 3.871| 6.445| 8.146| 4.338|   8.2| 5.001|  6.661|  5.009|  8.443|  6.667|  8.702|  5.358|  3.785|  4.921|  5.922|          141.035|         9|  0.0|\n",
      "|Male|     Never-married|           2|  Farming-fishing| 5.57|5.437| 5.74|   z|   o|   x| 85|       10.826| 2537.27| 7.512| 6.845| 3.669| 7.527|  8.74| 8.987| 8.814| 5.585| 6.039|  6.742|  6.881|  7.403|  6.345|  8.731|  3.739|  6.636|  4.591|  6.463|65.97800000000001|         5|  0.0|\n",
      "|Male|Married-civ-spouse|           8|Machine-op-inspct|8.802|3.571| 7.69|   o|   q|   n| 35|       19.375| 2207.35| 6.698| 5.074| 2.705| 6.625| 9.438| 8.804| 9.186| 5.172|  5.71|  5.581|   7.65|  7.877|  7.238|  8.256|  5.439|  6.587|  3.862|  5.976|          120.401|         8|  0.0|\n",
      "|Male|          Divorced|          13|  Farming-fishing|4.647|3.807|7.006|   o|   o|  bb| 85|       35.244| 2607.29| 3.815| 3.561| 5.715| 6.754| 7.849| 4.628| 2.097| 8.657| 6.684|  7.069|  3.019|  5.539|  8.049|  8.567|  6.625|  7.333|  6.296|  9.199|          161.602|        10|  0.0|\n",
      "|Male|Married-civ-spouse|           5|  Farming-fishing|5.586|6.093|6.328|   s|   o|   o| 32|       38.695|  2634.5| 4.812| 7.931|  3.14| 5.016| 4.881| 4.137| 7.101| 2.815| 6.682|  5.224|  9.698|  6.505|  2.038|  3.978|  3.541|  4.803|  3.817|  5.924|          162.205|        12|  0.0|\n",
      "+----+------------------+------------+-----------------+-----+-----+-----+----+----+----+---+-------------+--------+------+------+------+------+------+------+------+------+------+-------+-------+-------+-------+-------+-------+-------+-------+-------+-----------------+----------+-----+\n",
      "only showing top 5 rows\n",
      "\n"
     ]
    }
   ],
   "source": [
    "# Join the tables for mailings_3 which is the future dataset\n",
    "customers_sales_aggregate = spark.sql(\n",
    "\"\"\"\n",
    "SELECT\n",
    "c.ID,\n",
    "SUM(AMOUNT) sum_amount,\n",
    "COUNT(AMOUNT) cnt_amount\n",
    "FROM customers c\n",
    "LEFT JOIN sales s ON c.ID = s.REFID\n",
    "where date(EVENT_DATE) > \"2007-04-01\" and date(EVENT_DATE) < \"2007-07-01\"\n",
    "GROUP BY c.ID\n",
    "\"\"\")\n",
    "customers_sales_aggregate.createOrReplaceTempView(\"customers_sales_aggregate\")\n",
    "\n",
    "customers_info_all = spark.sql(\n",
    "\"\"\"\n",
    "SELECT\n",
    "*\n",
    "FROM customers c\n",
    "INNER JOIN mailings_3 m_1 on c.ID = m_1.REFID\n",
    "LEFT JOIN demog d ON c.GEOID = d.GEOID\n",
    "LEFT JOIN customers_sales_aggregate csa ON c.ID = csa.ID\n",
    "\"\"\")\n",
    "customers_info_all.createOrReplaceTempView(\"customers_info_all\")\n",
    "customers_info_all_drop = customers_info_all.drop(\"ID\",\"REFID\",\"KxIndex\",\"GEOID\",\"REF_DATE\")\n",
    "\n",
    "# Change Response to label(int)\n",
    "customers_info_all_drop.createOrReplaceTempView(\"customers_info_all_drop\")\n",
    "response_transfer_future = spark.sql(\"\"\"\n",
    "select *,\n",
    "case when RESPONSE = TRUE then 1\n",
    "     else 0 end as label\n",
    "from customers_info_all_drop                        \n",
    "\"\"\").drop(\"RESPONSE\")\n",
    "\n",
    "# Change label(int) to label(double)\n",
    "response_transfer_future = response_transfer_future.withColumn(\"label\", response_transfer_future[\"label\"].cast(DoubleType()) )\n",
    "response_transfer_future.createOrReplaceTempView(\"response_transfer_future\")\n",
    "cols_future = response_transfer_future.columns\n",
    "response_transfer_future.show(5)"
   ]
  },
  {
   "cell_type": "code",
   "execution_count": 165,
   "metadata": {},
   "outputs": [],
   "source": [
    "# Put all the independent variables into a column called \"features\"\n",
    "categoricalColumns = ['SEX', 'MARITAL_STATUS']\n",
    "stages = []\n",
    "for categoricalCol in categoricalColumns:\n",
    "    stringIndexer = StringIndexer(inputCol=categoricalCol, outputCol=categoricalCol+'Index')\n",
    "    encoder = OneHotEncoderEstimator(inputCols=[stringIndexer.getOutputCol()], outputCols=[categoricalCol+\"classVec\"])\n",
    "    stages += [stringIndexer, encoder]\n",
    "\n",
    "numericCols = ['EDUCATIONNUM','DATA1','DATA2','DATA3','age','INHABITANTS_K','INCOME_K','A_VAR1',\\\n",
    "               'A_VAR2','A_VAR3','A_VAR4','A_VAR5','A_VAR6','A_VAR7','A_VAR8','A_VAR9','A_VAR10',\\\n",
    "               'A_VAR11','A_VAR12','A_VAR13','A_VAR14','A_VAR15','A_VAR16','A_VAR17','A_VAR18',\\\n",
    "               'sum_amount','cnt_amount']\n",
    "\n",
    "# assemblerInputs = numericCols\n",
    "assemblerInputs = [c + \"classVec\" for c in categoricalColumns] + numericCols\n",
    "assembler = VectorAssembler(inputCols=assemblerInputs, outputCol=\"features\")\n",
    "stages += [assembler]"
   ]
  },
  {
   "cell_type": "code",
   "execution_count": 166,
   "metadata": {},
   "outputs": [
    {
     "name": "stdout",
     "output_type": "stream",
     "text": [
      "+--------------------+----+------------------+------------+-----------------+-----+-----+-----+----+----+----+---+-------------+--------+------+------+------+------+------+------+------+------+------+-------+-------+-------+-------+-------+-------+-------+-------+-------+-----------------+----------+-----+\n",
      "|            features| SEX|    MARITAL_STATUS|EDUCATIONNUM|       OCCUPATION|DATA1|DATA2|DATA3|NOM1|NOM2|NOM3|age|INHABITANTS_K|INCOME_K|A_VAR1|A_VAR2|A_VAR3|A_VAR4|A_VAR5|A_VAR6|A_VAR7|A_VAR8|A_VAR9|A_VAR10|A_VAR11|A_VAR12|A_VAR13|A_VAR14|A_VAR15|A_VAR16|A_VAR17|A_VAR18|       sum_amount|cnt_amount|label|\n",
      "+--------------------+----+------------------+------------+-----------------+-----+-----+-----+----+----+----+---+-------------+--------+------+------+------+------+------+------+------+------+------+-------+-------+-------+-------+-------+-------+-------+-------+-------+-----------------+----------+-----+\n",
      "|[1.0,0.0,1.0,0.0,...|Male|     Never-married|           4|Machine-op-inspct|4.986|5.164|5.743|   z|   q|   z| 22|       49.216| 2606.09| 6.242| 5.586| 8.828| 3.871| 6.445| 8.146| 4.338|   8.2| 5.001|  6.661|  5.009|  8.443|  6.667|  8.702|  5.358|  3.785|  4.921|  5.922|          141.035|         9|  0.0|\n",
      "|[1.0,0.0,1.0,0.0,...|Male|     Never-married|           2|  Farming-fishing| 5.57|5.437| 5.74|   z|   o|   x| 85|       10.826| 2537.27| 7.512| 6.845| 3.669| 7.527|  8.74| 8.987| 8.814| 5.585| 6.039|  6.742|  6.881|  7.403|  6.345|  8.731|  3.739|  6.636|  4.591|  6.463|65.97800000000001|         5|  0.0|\n",
      "|[1.0,1.0,0.0,0.0,...|Male|Married-civ-spouse|           8|Machine-op-inspct|8.802|3.571| 7.69|   o|   q|   n| 35|       19.375| 2207.35| 6.698| 5.074| 2.705| 6.625| 9.438| 8.804| 9.186| 5.172|  5.71|  5.581|   7.65|  7.877|  7.238|  8.256|  5.439|  6.587|  3.862|  5.976|          120.401|         8|  0.0|\n",
      "|[1.0,0.0,0.0,1.0,...|Male|          Divorced|          13|  Farming-fishing|4.647|3.807|7.006|   o|   o|  bb| 85|       35.244| 2607.29| 3.815| 3.561| 5.715| 6.754| 7.849| 4.628| 2.097| 8.657| 6.684|  7.069|  3.019|  5.539|  8.049|  8.567|  6.625|  7.333|  6.296|  9.199|          161.602|        10|  0.0|\n",
      "|[1.0,1.0,0.0,0.0,...|Male|Married-civ-spouse|           5|  Farming-fishing|5.586|6.093|6.328|   s|   o|   o| 32|       38.695|  2634.5| 4.812| 7.931|  3.14| 5.016| 4.881| 4.137| 7.101| 2.815| 6.682|  5.224|  9.698|  6.505|  2.038|  3.978|  3.541|  4.803|  3.817|  5.924|          162.205|        12|  0.0|\n",
      "+--------------------+----+------------------+------------+-----------------+-----+-----+-----+----+----+----+---+-------------+--------+------+------+------+------+------+------+------+------+------+-------+-------+-------+-------+-------+-------+-------+-------+-------+-----------------+----------+-----+\n",
      "only showing top 5 rows\n",
      "\n"
     ]
    }
   ],
   "source": [
    "# Use pipeline to combine variables\n",
    "pipeline_future = Pipeline(stages = stages)\n",
    "pipelineModel_future = pipeline_future.fit(response_transfer_future)\n",
    "df_future = pipelineModel_future.transform(response_transfer_future)\n",
    "selectedCols_future = ['features'] + cols_future\n",
    "df_future = df_future.select(selectedCols_future)\n",
    "df_future.show(5)"
   ]
  },
  {
   "cell_type": "markdown",
   "metadata": {},
   "source": [
    "## Find the Best Threshold"
   ]
  },
  {
   "cell_type": "code",
   "execution_count": 167,
   "metadata": {},
   "outputs": [
    {
     "name": "stdout",
     "output_type": "stream",
     "text": [
      "Training Dataset Positive Count: 2106\n",
      "Test Dataset Positive Count: 888\n"
     ]
    }
   ],
   "source": [
    "# Split the dataset\n",
    "train, test = df.randomSplit([0.7, 0.3], seed = 2020)\n",
    "print(\"Training Dataset Positive Count: \" + str(train.where(\"label=1\").count()))\n",
    "print(\"Test Dataset Positive Count: \" + str(test.where(\"label=1\").count()))"
   ]
  },
  {
   "cell_type": "code",
   "execution_count": 168,
   "metadata": {},
   "outputs": [],
   "source": [
    "# Get the customer classification result from logistic regression function for a specific threshold\n",
    "def logistic_function(threshold):\n",
    "    lr = LogisticRegression(labelCol=\"label\",featuresCol=\"features\",maxIter=10,weightCol=\"weight\",threshold=threshold)\n",
    "    lr_model=lr.fit(train)\n",
    "    predict_train=lr_model.transform(train)\n",
    "    predict_test = lr_model.transform(test)\n",
    "    target = predict_test.where(\"prediction=1 and label=1\").count() \n",
    "    print(threshold, target)"
   ]
  },
  {
   "cell_type": "code",
   "execution_count": 169,
   "metadata": {},
   "outputs": [
    {
     "name": "stdout",
     "output_type": "stream",
     "text": [
      "0.7 152\n",
      "0.71 134\n",
      "0.72 111\n",
      "0.73 96\n",
      "0.74 85\n",
      "0.75 76\n"
     ]
    }
   ],
   "source": [
    "# For future dataset, we want to find out 1,667 among 300,000 customers, which is 0.56%\n",
    "# For test dataset, we want to find out 0.56% of 18,000 customers, which is 100\n",
    "for threshold in np.arange(0.70,0.75,0.01):\n",
    "    logistic_function(threshold)"
   ]
  },
  {
   "cell_type": "markdown",
   "metadata": {},
   "source": [
    "We selectec 0.73 as the best threshold because 96 is just little smaller than 100."
   ]
  },
  {
   "cell_type": "markdown",
   "metadata": {},
   "source": [
    "## Build the Final Logistic Regression Model with the Best Threshold"
   ]
  },
  {
   "cell_type": "code",
   "execution_count": 170,
   "metadata": {},
   "outputs": [
    {
     "data": {
      "text/plain": [
       "291"
      ]
     },
     "execution_count": 170,
     "metadata": {},
     "output_type": "execute_result"
    }
   ],
   "source": [
    "# Build logistic regression model with 0.73 as the threshold\n",
    "lr = LogisticRegression(labelCol=\"label\", featuresCol=\"features\",maxIter=10,weightCol=\"weight\", threshold=0.73)\n",
    "lr_model=lr.fit(train)\n",
    "predict_train=lr_model.transform(train)\n",
    "predict_test = lr_model.transform(test)\n",
    "\n",
    "# Check the number of positives we got\n",
    "predict_test.where(\"prediction=1\").count()"
   ]
  },
  {
   "cell_type": "code",
   "execution_count": 180,
   "metadata": {},
   "outputs": [
    {
     "name": "stdout",
     "output_type": "stream",
     "text": [
      "[0.08537150214623974,0.10782995412079281,0.12066416013433731,0.17862967133131252,0.3520107191008278,-0.12125205897588563,-0.013177430288232851,-0.01844444434371642,-0.008437194311490257,2.8393428289485458e-05,-0.003549498967169395,5.678491321949731e-05,-0.05683262742579435,0.07011669153488945,0.01882614386715209,-0.0540171987104696,0.014534086751070137,-0.037521350202947036,0.02018679744862735,0.004921450374144094,-0.029484892940786624,0.06975489534974383,0.08370438451499601,0.07219954921391872,0.0024122033709455173,0.03812267209318475,0.07395184615036704,0.0248668969845224,-0.037407252737106135,0.08577833880566367,-0.006118858939273973,-0.10256323906298366]\n"
     ]
    }
   ],
   "source": [
    "# Check the coefficients\n",
    "print(lr_model.coefficients)"
   ]
  },
  {
   "cell_type": "code",
   "execution_count": 182,
   "metadata": {},
   "outputs": [
    {
     "name": "stdout",
     "output_type": "stream",
     "text": [
      "<pyspark.ml.classification.BinaryLogisticRegressionTrainingSummary object at 0x11c45a090>\n"
     ]
    }
   ],
   "source": [
    "print(lr_model.summary)"
   ]
  },
  {
   "cell_type": "markdown",
   "metadata": {},
   "source": [
    "## Model Evaluation"
   ]
  },
  {
   "cell_type": "code",
   "execution_count": 171,
   "metadata": {},
   "outputs": [
    {
     "name": "stdout",
     "output_type": "stream",
     "text": [
      "Test Area Under ROC 0.6848852885611616\n"
     ]
    }
   ],
   "source": [
    "from pyspark.ml.evaluation import BinaryClassificationEvaluator\n",
    "evaluator = BinaryClassificationEvaluator()\n",
    "\n",
    "# AUC\n",
    "print('Test Area Under ROC', evaluator.evaluate(predict_test))"
   ]
  },
  {
   "cell_type": "code",
   "execution_count": 172,
   "metadata": {},
   "outputs": [
    {
     "data": {
      "text/plain": [
       "0.32989690721649484"
      ]
     },
     "execution_count": 172,
     "metadata": {},
     "output_type": "execute_result"
    }
   ],
   "source": [
    "# Precision\n",
    "predict_test.where(\"prediction=1 and label=1\").count() / predict_test.where(\"prediction=1\").count()"
   ]
  },
  {
   "cell_type": "code",
   "execution_count": 173,
   "metadata": {
    "scrolled": true
   },
   "outputs": [
    {
     "data": {
      "text/plain": [
       "0.10810810810810811"
      ]
     },
     "execution_count": 173,
     "metadata": {},
     "output_type": "execute_result"
    }
   ],
   "source": [
    "# Recall\n",
    "predict_test.where(\"prediction=1 and label=1\").count() / predict_test.where(\"label=1\").count()"
   ]
  },
  {
   "cell_type": "markdown",
   "metadata": {},
   "source": [
    "## Future Dataset Prediction"
   ]
  },
  {
   "cell_type": "code",
   "execution_count": 174,
   "metadata": {},
   "outputs": [
    {
     "data": {
      "text/plain": [
       "5022"
      ]
     },
     "execution_count": 174,
     "metadata": {},
     "output_type": "execute_result"
    }
   ],
   "source": [
    "# Check the number of all the positives we predicted\n",
    "predict_future = lr_model.transform(df_future)\n",
    "predict_future.where(\"prediction=1\").count()"
   ]
  },
  {
   "cell_type": "code",
   "execution_count": 175,
   "metadata": {},
   "outputs": [
    {
     "name": "stdout",
     "output_type": "stream",
     "text": [
      "Test Area Under ROC 0.6643005386194675\n"
     ]
    }
   ],
   "source": [
    "# AUC\n",
    "evaluator = BinaryClassificationEvaluator()\n",
    "print('Test Area Under ROC', evaluator.evaluate(predict_future))"
   ]
  },
  {
   "cell_type": "code",
   "execution_count": 176,
   "metadata": {},
   "outputs": [
    {
     "data": {
      "text/plain": [
       "0.3343289526085225"
      ]
     },
     "execution_count": 176,
     "metadata": {},
     "output_type": "execute_result"
    }
   ],
   "source": [
    "# Precision\n",
    "predict_future.where(\"prediction=1 and label=1\").count() / predict_future.where(\"prediction=1\").count()"
   ]
  },
  {
   "cell_type": "code",
   "execution_count": 177,
   "metadata": {},
   "outputs": [
    {
     "data": {
      "text/plain": [
       "0.1133923144458702"
      ]
     },
     "execution_count": 177,
     "metadata": {},
     "output_type": "execute_result"
    }
   ],
   "source": [
    "# Recall\n",
    "predict_future.where(\"prediction=1 and label=1\").count() / predict_future.where(\"label=1\").count()"
   ]
  },
  {
   "attachments": {},
   "cell_type": "markdown",
   "metadata": {},
   "source": [
    "## Summary\n",
    "Leveraging the model we developed, the company only needs to send marketing mailings to 5022 customers. \n",
    "\n",
    "According to the precision, 5,022*33.4% = 1679 customers will respond, which leads to a potential revenue increase of 1.5 million in the following 3 months."
   ]
  }
 ],
 "metadata": {
  "kernelspec": {
   "display_name": "Python 3",
   "language": "python",
   "name": "python3"
  },
  "language_info": {
   "codemirror_mode": {
    "name": "ipython",
    "version": 3
   },
   "file_extension": ".py",
   "mimetype": "text/x-python",
   "name": "python",
   "nbconvert_exporter": "python",
   "pygments_lexer": "ipython3",
   "version": "3.7.3"
  }
 },
 "nbformat": 4,
 "nbformat_minor": 2
}
